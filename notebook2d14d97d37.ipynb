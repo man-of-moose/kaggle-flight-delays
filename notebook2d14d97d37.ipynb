{
 "cells": [
  {
   "cell_type": "code",
   "execution_count": 1,
   "id": "3e255368",
   "metadata": {
    "_cell_guid": "b1076dfc-b9ad-4769-8c92-a6c4dae69d19",
    "_uuid": "8f2839f25d086af736a60e9eeb907d3b93b6e0e5",
    "execution": {
     "iopub.execute_input": "2022-07-01T16:31:03.247348Z",
     "iopub.status.busy": "2022-07-01T16:31:03.246750Z",
     "iopub.status.idle": "2022-07-01T16:31:03.271495Z",
     "shell.execute_reply": "2022-07-01T16:31:03.270167Z"
    },
    "papermill": {
     "duration": 0.038374,
     "end_time": "2022-07-01T16:31:03.273903",
     "exception": false,
     "start_time": "2022-07-01T16:31:03.235529",
     "status": "completed"
    },
    "tags": []
   },
   "outputs": [
    {
     "name": "stdout",
     "output_type": "stream",
     "text": [
      "/kaggle/input/airlines-dataset-to-predict-a-delay/Airlines.csv\n"
     ]
    }
   ],
   "source": [
    "# This Python 3 environment comes with many helpful analytics libraries installed\n",
    "# It is defined by the kaggle/python Docker image: https://github.com/kaggle/docker-python\n",
    "# For example, here's several helpful packages to load\n",
    "\n",
    "import numpy as np # linear algebra\n",
    "import pandas as pd # data processing, CSV file I/O (e.g. pd.read_csv)\n",
    "\n",
    "# Input data files are available in the read-only \"../input/\" directory\n",
    "# For example, running this (by clicking run or pressing Shift+Enter) will list all files under the input directory\n",
    "\n",
    "import os\n",
    "for dirname, _, filenames in os.walk('/kaggle/input'):\n",
    "    for filename in filenames:\n",
    "        print(os.path.join(dirname, filename))\n",
    "\n",
    "# You can write up to 20GB to the current directory (/kaggle/working/) that gets preserved as output when you create a version using \"Save & Run All\" \n",
    "# You can also write temporary files to /kaggle/temp/, but they won't be saved outside of the current session"
   ]
  },
  {
   "cell_type": "code",
   "execution_count": 2,
   "id": "700f8339",
   "metadata": {
    "execution": {
     "iopub.execute_input": "2022-07-01T16:31:03.293075Z",
     "iopub.status.busy": "2022-07-01T16:31:03.291886Z",
     "iopub.status.idle": "2022-07-01T16:31:03.839090Z",
     "shell.execute_reply": "2022-07-01T16:31:03.838195Z"
    },
    "papermill": {
     "duration": 0.559036,
     "end_time": "2022-07-01T16:31:03.841558",
     "exception": false,
     "start_time": "2022-07-01T16:31:03.282522",
     "status": "completed"
    },
    "tags": []
   },
   "outputs": [],
   "source": [
    "data = pd.read_csv(\"/kaggle/input/airlines-dataset-to-predict-a-delay/Airlines.csv\")"
   ]
  },
  {
   "cell_type": "code",
   "execution_count": 3,
   "id": "a748ec9e",
   "metadata": {
    "execution": {
     "iopub.execute_input": "2022-07-01T16:31:03.860351Z",
     "iopub.status.busy": "2022-07-01T16:31:03.859954Z",
     "iopub.status.idle": "2022-07-01T16:31:03.880764Z",
     "shell.execute_reply": "2022-07-01T16:31:03.879414Z"
    },
    "papermill": {
     "duration": 0.033976,
     "end_time": "2022-07-01T16:31:03.884152",
     "exception": false,
     "start_time": "2022-07-01T16:31:03.850176",
     "status": "completed"
    },
    "tags": []
   },
   "outputs": [
    {
     "data": {
      "text/html": [
       "<div>\n",
       "<style scoped>\n",
       "    .dataframe tbody tr th:only-of-type {\n",
       "        vertical-align: middle;\n",
       "    }\n",
       "\n",
       "    .dataframe tbody tr th {\n",
       "        vertical-align: top;\n",
       "    }\n",
       "\n",
       "    .dataframe thead th {\n",
       "        text-align: right;\n",
       "    }\n",
       "</style>\n",
       "<table border=\"1\" class=\"dataframe\">\n",
       "  <thead>\n",
       "    <tr style=\"text-align: right;\">\n",
       "      <th></th>\n",
       "      <th>id</th>\n",
       "      <th>Airline</th>\n",
       "      <th>Flight</th>\n",
       "      <th>AirportFrom</th>\n",
       "      <th>AirportTo</th>\n",
       "      <th>DayOfWeek</th>\n",
       "      <th>Time</th>\n",
       "      <th>Length</th>\n",
       "      <th>Delay</th>\n",
       "    </tr>\n",
       "  </thead>\n",
       "  <tbody>\n",
       "    <tr>\n",
       "      <th>0</th>\n",
       "      <td>1</td>\n",
       "      <td>CO</td>\n",
       "      <td>269</td>\n",
       "      <td>SFO</td>\n",
       "      <td>IAH</td>\n",
       "      <td>3</td>\n",
       "      <td>15</td>\n",
       "      <td>205</td>\n",
       "      <td>1</td>\n",
       "    </tr>\n",
       "    <tr>\n",
       "      <th>1</th>\n",
       "      <td>2</td>\n",
       "      <td>US</td>\n",
       "      <td>1558</td>\n",
       "      <td>PHX</td>\n",
       "      <td>CLT</td>\n",
       "      <td>3</td>\n",
       "      <td>15</td>\n",
       "      <td>222</td>\n",
       "      <td>1</td>\n",
       "    </tr>\n",
       "    <tr>\n",
       "      <th>2</th>\n",
       "      <td>3</td>\n",
       "      <td>AA</td>\n",
       "      <td>2400</td>\n",
       "      <td>LAX</td>\n",
       "      <td>DFW</td>\n",
       "      <td>3</td>\n",
       "      <td>20</td>\n",
       "      <td>165</td>\n",
       "      <td>1</td>\n",
       "    </tr>\n",
       "    <tr>\n",
       "      <th>3</th>\n",
       "      <td>4</td>\n",
       "      <td>AA</td>\n",
       "      <td>2466</td>\n",
       "      <td>SFO</td>\n",
       "      <td>DFW</td>\n",
       "      <td>3</td>\n",
       "      <td>20</td>\n",
       "      <td>195</td>\n",
       "      <td>1</td>\n",
       "    </tr>\n",
       "    <tr>\n",
       "      <th>4</th>\n",
       "      <td>5</td>\n",
       "      <td>AS</td>\n",
       "      <td>108</td>\n",
       "      <td>ANC</td>\n",
       "      <td>SEA</td>\n",
       "      <td>3</td>\n",
       "      <td>30</td>\n",
       "      <td>202</td>\n",
       "      <td>0</td>\n",
       "    </tr>\n",
       "  </tbody>\n",
       "</table>\n",
       "</div>"
      ],
      "text/plain": [
       "   id Airline  Flight AirportFrom AirportTo  DayOfWeek  Time  Length  Delay\n",
       "0   1      CO     269         SFO       IAH          3    15     205      1\n",
       "1   2      US    1558         PHX       CLT          3    15     222      1\n",
       "2   3      AA    2400         LAX       DFW          3    20     165      1\n",
       "3   4      AA    2466         SFO       DFW          3    20     195      1\n",
       "4   5      AS     108         ANC       SEA          3    30     202      0"
      ]
     },
     "execution_count": 3,
     "metadata": {},
     "output_type": "execute_result"
    }
   ],
   "source": [
    "data.head()"
   ]
  },
  {
   "cell_type": "code",
   "execution_count": 4,
   "id": "2df7dbec",
   "metadata": {
    "execution": {
     "iopub.execute_input": "2022-07-01T16:31:03.903617Z",
     "iopub.status.busy": "2022-07-01T16:31:03.902582Z",
     "iopub.status.idle": "2022-07-01T16:31:03.909670Z",
     "shell.execute_reply": "2022-07-01T16:31:03.908805Z"
    },
    "papermill": {
     "duration": 0.019187,
     "end_time": "2022-07-01T16:31:03.911791",
     "exception": false,
     "start_time": "2022-07-01T16:31:03.892604",
     "status": "completed"
    },
    "tags": []
   },
   "outputs": [
    {
     "data": {
      "text/plain": [
       "(539383, 9)"
      ]
     },
     "execution_count": 4,
     "metadata": {},
     "output_type": "execute_result"
    }
   ],
   "source": [
    "data.shape"
   ]
  },
  {
   "cell_type": "code",
   "execution_count": 5,
   "id": "373c92e6",
   "metadata": {
    "execution": {
     "iopub.execute_input": "2022-07-01T16:31:03.932287Z",
     "iopub.status.busy": "2022-07-01T16:31:03.931779Z",
     "iopub.status.idle": "2022-07-01T16:31:04.103692Z",
     "shell.execute_reply": "2022-07-01T16:31:04.102829Z"
    },
    "papermill": {
     "duration": 0.185056,
     "end_time": "2022-07-01T16:31:04.105752",
     "exception": false,
     "start_time": "2022-07-01T16:31:03.920696",
     "status": "completed"
    },
    "tags": []
   },
   "outputs": [
    {
     "data": {
      "text/html": [
       "<div>\n",
       "<style scoped>\n",
       "    .dataframe tbody tr th:only-of-type {\n",
       "        vertical-align: middle;\n",
       "    }\n",
       "\n",
       "    .dataframe tbody tr th {\n",
       "        vertical-align: top;\n",
       "    }\n",
       "\n",
       "    .dataframe thead th {\n",
       "        text-align: right;\n",
       "    }\n",
       "</style>\n",
       "<table border=\"1\" class=\"dataframe\">\n",
       "  <thead>\n",
       "    <tr style=\"text-align: right;\">\n",
       "      <th></th>\n",
       "      <th>id</th>\n",
       "      <th>Flight</th>\n",
       "      <th>DayOfWeek</th>\n",
       "      <th>Time</th>\n",
       "      <th>Length</th>\n",
       "      <th>Delay</th>\n",
       "    </tr>\n",
       "  </thead>\n",
       "  <tbody>\n",
       "    <tr>\n",
       "      <th>count</th>\n",
       "      <td>539383.000000</td>\n",
       "      <td>539383.000000</td>\n",
       "      <td>539383.000000</td>\n",
       "      <td>539383.000000</td>\n",
       "      <td>539383.000000</td>\n",
       "      <td>539383.000000</td>\n",
       "    </tr>\n",
       "    <tr>\n",
       "      <th>mean</th>\n",
       "      <td>269692.000000</td>\n",
       "      <td>2427.928630</td>\n",
       "      <td>3.929668</td>\n",
       "      <td>802.728963</td>\n",
       "      <td>132.202007</td>\n",
       "      <td>0.445442</td>\n",
       "    </tr>\n",
       "    <tr>\n",
       "      <th>std</th>\n",
       "      <td>155706.604461</td>\n",
       "      <td>2067.429837</td>\n",
       "      <td>1.914664</td>\n",
       "      <td>278.045911</td>\n",
       "      <td>70.117016</td>\n",
       "      <td>0.497015</td>\n",
       "    </tr>\n",
       "    <tr>\n",
       "      <th>min</th>\n",
       "      <td>1.000000</td>\n",
       "      <td>1.000000</td>\n",
       "      <td>1.000000</td>\n",
       "      <td>10.000000</td>\n",
       "      <td>0.000000</td>\n",
       "      <td>0.000000</td>\n",
       "    </tr>\n",
       "    <tr>\n",
       "      <th>25%</th>\n",
       "      <td>134846.500000</td>\n",
       "      <td>712.000000</td>\n",
       "      <td>2.000000</td>\n",
       "      <td>565.000000</td>\n",
       "      <td>81.000000</td>\n",
       "      <td>0.000000</td>\n",
       "    </tr>\n",
       "    <tr>\n",
       "      <th>50%</th>\n",
       "      <td>269692.000000</td>\n",
       "      <td>1809.000000</td>\n",
       "      <td>4.000000</td>\n",
       "      <td>795.000000</td>\n",
       "      <td>115.000000</td>\n",
       "      <td>0.000000</td>\n",
       "    </tr>\n",
       "    <tr>\n",
       "      <th>75%</th>\n",
       "      <td>404537.500000</td>\n",
       "      <td>3745.000000</td>\n",
       "      <td>5.000000</td>\n",
       "      <td>1035.000000</td>\n",
       "      <td>162.000000</td>\n",
       "      <td>1.000000</td>\n",
       "    </tr>\n",
       "    <tr>\n",
       "      <th>max</th>\n",
       "      <td>539383.000000</td>\n",
       "      <td>7814.000000</td>\n",
       "      <td>7.000000</td>\n",
       "      <td>1439.000000</td>\n",
       "      <td>655.000000</td>\n",
       "      <td>1.000000</td>\n",
       "    </tr>\n",
       "  </tbody>\n",
       "</table>\n",
       "</div>"
      ],
      "text/plain": [
       "                  id         Flight      DayOfWeek           Time  \\\n",
       "count  539383.000000  539383.000000  539383.000000  539383.000000   \n",
       "mean   269692.000000    2427.928630       3.929668     802.728963   \n",
       "std    155706.604461    2067.429837       1.914664     278.045911   \n",
       "min         1.000000       1.000000       1.000000      10.000000   \n",
       "25%    134846.500000     712.000000       2.000000     565.000000   \n",
       "50%    269692.000000    1809.000000       4.000000     795.000000   \n",
       "75%    404537.500000    3745.000000       5.000000    1035.000000   \n",
       "max    539383.000000    7814.000000       7.000000    1439.000000   \n",
       "\n",
       "              Length          Delay  \n",
       "count  539383.000000  539383.000000  \n",
       "mean      132.202007       0.445442  \n",
       "std        70.117016       0.497015  \n",
       "min         0.000000       0.000000  \n",
       "25%        81.000000       0.000000  \n",
       "50%       115.000000       0.000000  \n",
       "75%       162.000000       1.000000  \n",
       "max       655.000000       1.000000  "
      ]
     },
     "execution_count": 5,
     "metadata": {},
     "output_type": "execute_result"
    }
   ],
   "source": [
    "data.describe()"
   ]
  },
  {
   "cell_type": "code",
   "execution_count": 6,
   "id": "74a9d473",
   "metadata": {
    "execution": {
     "iopub.execute_input": "2022-07-01T16:31:04.125624Z",
     "iopub.status.busy": "2022-07-01T16:31:04.124985Z",
     "iopub.status.idle": "2022-07-01T16:31:04.208993Z",
     "shell.execute_reply": "2022-07-01T16:31:04.207831Z"
    },
    "papermill": {
     "duration": 0.096742,
     "end_time": "2022-07-01T16:31:04.211300",
     "exception": false,
     "start_time": "2022-07-01T16:31:04.114558",
     "status": "completed"
    },
    "tags": []
   },
   "outputs": [
    {
     "data": {
      "text/plain": [
       "id             0\n",
       "Airline        0\n",
       "Flight         0\n",
       "AirportFrom    0\n",
       "AirportTo      0\n",
       "DayOfWeek      0\n",
       "Time           0\n",
       "Length         0\n",
       "Delay          0\n",
       "dtype: int64"
      ]
     },
     "execution_count": 6,
     "metadata": {},
     "output_type": "execute_result"
    }
   ],
   "source": [
    "data.isna().sum()"
   ]
  },
  {
   "cell_type": "code",
   "execution_count": 7,
   "id": "bd89a9f6",
   "metadata": {
    "execution": {
     "iopub.execute_input": "2022-07-01T16:31:04.230973Z",
     "iopub.status.busy": "2022-07-01T16:31:04.230038Z",
     "iopub.status.idle": "2022-07-01T16:31:04.255598Z",
     "shell.execute_reply": "2022-07-01T16:31:04.254230Z"
    },
    "papermill": {
     "duration": 0.038834,
     "end_time": "2022-07-01T16:31:04.258969",
     "exception": false,
     "start_time": "2022-07-01T16:31:04.220135",
     "status": "completed"
    },
    "tags": []
   },
   "outputs": [],
   "source": [
    "data = data.drop(['id'], axis=1)"
   ]
  },
  {
   "cell_type": "code",
   "execution_count": 8,
   "id": "1ee74584",
   "metadata": {
    "execution": {
     "iopub.execute_input": "2022-07-01T16:31:04.278316Z",
     "iopub.status.busy": "2022-07-01T16:31:04.277883Z",
     "iopub.status.idle": "2022-07-01T16:31:05.407129Z",
     "shell.execute_reply": "2022-07-01T16:31:05.406069Z"
    },
    "papermill": {
     "duration": 1.14204,
     "end_time": "2022-07-01T16:31:05.409723",
     "exception": false,
     "start_time": "2022-07-01T16:31:04.267683",
     "status": "completed"
    },
    "tags": []
   },
   "outputs": [],
   "source": [
    "import scipy.stats as stats\n",
    "import seaborn as sns\n",
    "import matplotlib.pyplot as plt\n",
    "from sklearn.preprocessing import StandardScaler, MinMaxScaler"
   ]
  },
  {
   "cell_type": "code",
   "execution_count": 9,
   "id": "dc522bd5",
   "metadata": {
    "execution": {
     "iopub.execute_input": "2022-07-01T16:31:05.429289Z",
     "iopub.status.busy": "2022-07-01T16:31:05.428928Z",
     "iopub.status.idle": "2022-07-01T16:31:05.434110Z",
     "shell.execute_reply": "2022-07-01T16:31:05.432977Z"
    },
    "papermill": {
     "duration": 0.017236,
     "end_time": "2022-07-01T16:31:05.436136",
     "exception": false,
     "start_time": "2022-07-01T16:31:05.418900",
     "status": "completed"
    },
    "tags": []
   },
   "outputs": [],
   "source": [
    "def get_cat_cat_ind(s1, s2):\n",
    "    crosstab = pd.crosstab(s1, s2)\n",
    "    stat, p, dof, sup = stats.chi2_contingency(crosstab)\n",
    "    \n",
    "    return p"
   ]
  },
  {
   "cell_type": "code",
   "execution_count": 10,
   "id": "5da4a8af",
   "metadata": {
    "execution": {
     "iopub.execute_input": "2022-07-01T16:31:05.455080Z",
     "iopub.status.busy": "2022-07-01T16:31:05.454696Z",
     "iopub.status.idle": "2022-07-01T16:31:05.460738Z",
     "shell.execute_reply": "2022-07-01T16:31:05.459640Z"
    },
    "papermill": {
     "duration": 0.018256,
     "end_time": "2022-07-01T16:31:05.462951",
     "exception": false,
     "start_time": "2022-07-01T16:31:05.444695",
     "status": "completed"
    },
    "tags": []
   },
   "outputs": [],
   "source": [
    "def get_cat_num_ind(data, catcol, numcol):\n",
    "    delay = data[data[catcol]==1][numcol]\n",
    "    no_delay = data[data[catcol]==0][numcol]\n",
    "    \n",
    "    stat, p = stats.ttest_ind(delay, no_delay)\n",
    "    \n",
    "    return p"
   ]
  },
  {
   "cell_type": "code",
   "execution_count": 11,
   "id": "38fed0d0",
   "metadata": {
    "execution": {
     "iopub.execute_input": "2022-07-01T16:31:05.482330Z",
     "iopub.status.busy": "2022-07-01T16:31:05.481826Z",
     "iopub.status.idle": "2022-07-01T16:31:12.477501Z",
     "shell.execute_reply": "2022-07-01T16:31:12.476353Z"
    },
    "papermill": {
     "duration": 7.008009,
     "end_time": "2022-07-01T16:31:12.479821",
     "exception": false,
     "start_time": "2022-07-01T16:31:05.471812",
     "status": "completed"
    },
    "tags": []
   },
   "outputs": [
    {
     "data": {
      "image/png": "[encoded data removed]",
      "text/plain": [
       "<Figure size 432x288 with 1 Axes>"
      ]
     },
     "metadata": {
      "needs_background": "light"
     },
     "output_type": "display_data"
    }
   ],
   "source": [
    "ax = sns.barplot(x=data['Airline'], y=data['Delay'])"
   ]
  },
  {
   "cell_type": "code",
   "execution_count": 12,
   "id": "7fe771bd",
   "metadata": {
    "execution": {
     "iopub.execute_input": "2022-07-01T16:31:12.500378Z",
     "iopub.status.busy": "2022-07-01T16:31:12.499417Z",
     "iopub.status.idle": "2022-07-01T16:31:12.621152Z",
     "shell.execute_reply": "2022-07-01T16:31:12.620277Z"
    },
    "papermill": {
     "duration": 0.13445,
     "end_time": "2022-07-01T16:31:12.623331",
     "exception": false,
     "start_time": "2022-07-01T16:31:12.488881",
     "status": "completed"
    },
    "tags": []
   },
   "outputs": [
    {
     "data": {
      "text/plain": [
       "0.0"
      ]
     },
     "execution_count": 12,
     "metadata": {},
     "output_type": "execute_result"
    }
   ],
   "source": [
    "# calculate p value for independence between delay and Airline\n",
    "\n",
    "get_cat_cat_ind(data['Airline'], data['Delay'])"
   ]
  },
  {
   "cell_type": "code",
   "execution_count": 13,
   "id": "172dd95d",
   "metadata": {
    "execution": {
     "iopub.execute_input": "2022-07-01T16:31:12.643760Z",
     "iopub.status.busy": "2022-07-01T16:31:12.642681Z",
     "iopub.status.idle": "2022-07-01T16:31:12.752499Z",
     "shell.execute_reply": "2022-07-01T16:31:12.751347Z"
    },
    "papermill": {
     "duration": 0.122408,
     "end_time": "2022-07-01T16:31:12.754839",
     "exception": false,
     "start_time": "2022-07-01T16:31:12.632431",
     "status": "completed"
    },
    "tags": []
   },
   "outputs": [
    {
     "data": {
      "text/plain": [
       "0.0"
      ]
     },
     "execution_count": 13,
     "metadata": {},
     "output_type": "execute_result"
    }
   ],
   "source": [
    "# calculate p value for independence between delay and AirportFrom\n",
    "\n",
    "get_cat_cat_ind(data['AirportFrom'], data['Delay'])"
   ]
  },
  {
   "cell_type": "code",
   "execution_count": 14,
   "id": "ea37cf2b",
   "metadata": {
    "execution": {
     "iopub.execute_input": "2022-07-01T16:31:12.775392Z",
     "iopub.status.busy": "2022-07-01T16:31:12.774258Z",
     "iopub.status.idle": "2022-07-01T16:31:12.883244Z",
     "shell.execute_reply": "2022-07-01T16:31:12.881933Z"
    },
    "papermill": {
     "duration": 0.12167,
     "end_time": "2022-07-01T16:31:12.885741",
     "exception": false,
     "start_time": "2022-07-01T16:31:12.764071",
     "status": "completed"
    },
    "tags": []
   },
   "outputs": [
    {
     "data": {
      "text/plain": [
       "0.0"
      ]
     },
     "execution_count": 14,
     "metadata": {},
     "output_type": "execute_result"
    }
   ],
   "source": [
    "# calculate p value for independence between delay and AirportTo\n",
    "\n",
    "get_cat_cat_ind(data['AirportTo'], data['Delay'])"
   ]
  },
  {
   "cell_type": "code",
   "execution_count": 15,
   "id": "0ad60146",
   "metadata": {
    "execution": {
     "iopub.execute_input": "2022-07-01T16:31:12.906277Z",
     "iopub.status.busy": "2022-07-01T16:31:12.905856Z",
     "iopub.status.idle": "2022-07-01T16:31:13.264499Z",
     "shell.execute_reply": "2022-07-01T16:31:13.263438Z"
    },
    "papermill": {
     "duration": 0.372063,
     "end_time": "2022-07-01T16:31:13.267061",
     "exception": false,
     "start_time": "2022-07-01T16:31:12.894998",
     "status": "completed"
    },
    "tags": []
   },
   "outputs": [],
   "source": [
    "data['DayOfWeek'] = data['DayOfWeek'].astype(str)"
   ]
  },
  {
   "cell_type": "code",
   "execution_count": 16,
   "id": "0c8cff05",
   "metadata": {
    "execution": {
     "iopub.execute_input": "2022-07-01T16:31:13.288088Z",
     "iopub.status.busy": "2022-07-01T16:31:13.287430Z",
     "iopub.status.idle": "2022-07-01T16:31:13.385864Z",
     "shell.execute_reply": "2022-07-01T16:31:13.384771Z"
    },
    "papermill": {
     "duration": 0.111883,
     "end_time": "2022-07-01T16:31:13.388229",
     "exception": false,
     "start_time": "2022-07-01T16:31:13.276346",
     "status": "completed"
    },
    "tags": []
   },
   "outputs": [
    {
     "data": {
      "text/plain": [
       "2.6007280556741412e-251"
      ]
     },
     "execution_count": 16,
     "metadata": {},
     "output_type": "execute_result"
    }
   ],
   "source": [
    "# calculate p value for independence between delay and DayOfWeek\n",
    "\n",
    "get_cat_cat_ind(data['DayOfWeek'], data['Delay'])"
   ]
  },
  {
   "cell_type": "code",
   "execution_count": 17,
   "id": "a606ccc1",
   "metadata": {
    "execution": {
     "iopub.execute_input": "2022-07-01T16:31:13.409099Z",
     "iopub.status.busy": "2022-07-01T16:31:13.408365Z",
     "iopub.status.idle": "2022-07-01T16:31:13.498543Z",
     "shell.execute_reply": "2022-07-01T16:31:13.497657Z"
    },
    "papermill": {
     "duration": 0.10326,
     "end_time": "2022-07-01T16:31:13.500691",
     "exception": false,
     "start_time": "2022-07-01T16:31:13.397431",
     "status": "completed"
    },
    "tags": []
   },
   "outputs": [
    {
     "data": {
      "text/plain": [
       "0.0"
      ]
     },
     "execution_count": 17,
     "metadata": {},
     "output_type": "execute_result"
    }
   ],
   "source": [
    "# calculate p value for independence between delay and time\n",
    "\n",
    "get_cat_num_ind(data, \"Delay\", \"Time\")"
   ]
  },
  {
   "cell_type": "code",
   "execution_count": 18,
   "id": "ff378f05",
   "metadata": {
    "execution": {
     "iopub.execute_input": "2022-07-01T16:31:13.522567Z",
     "iopub.status.busy": "2022-07-01T16:31:13.521661Z",
     "iopub.status.idle": "2022-07-01T16:31:15.899402Z",
     "shell.execute_reply": "2022-07-01T16:31:15.898218Z"
    },
    "papermill": {
     "duration": 2.391089,
     "end_time": "2022-07-01T16:31:15.901862",
     "exception": false,
     "start_time": "2022-07-01T16:31:13.510773",
     "status": "completed"
    },
    "tags": []
   },
   "outputs": [
    {
     "data": {
      "text/plain": [
       "<matplotlib.legend.Legend at 0x7f91b147b090>"
      ]
     },
     "execution_count": 18,
     "metadata": {},
     "output_type": "execute_result"
    },
    {
     "data": {
      "image/png": "[encoded data removed]",
      "text/plain": [
       "<Figure size 720x360 with 1 Axes>"
      ]
     },
     "metadata": {
      "needs_background": "light"
     },
     "output_type": "display_data"
    }
   ],
   "source": [
    "# Visualize distributions for delay with respect to time\n",
    "\n",
    "delay = data[data[\"Delay\"]==1][\"Time\"]\n",
    "no_delay = data[data[\"Delay\"]==0][\"Time\"]\n",
    "\n",
    "figure = plt.figure(figsize=(10,5))\n",
    "sns.kdeplot(delay)\n",
    "sns.kdeplot(no_delay)\n",
    "plt.legend(labels=[\"delay\",\"no_delay\"])"
   ]
  },
  {
   "cell_type": "code",
   "execution_count": 19,
   "id": "3f41baa1",
   "metadata": {
    "execution": {
     "iopub.execute_input": "2022-07-01T16:31:15.923689Z",
     "iopub.status.busy": "2022-07-01T16:31:15.923335Z",
     "iopub.status.idle": "2022-07-01T16:31:15.984707Z",
     "shell.execute_reply": "2022-07-01T16:31:15.983593Z"
    },
    "papermill": {
     "duration": 0.074715,
     "end_time": "2022-07-01T16:31:15.986968",
     "exception": false,
     "start_time": "2022-07-01T16:31:15.912253",
     "status": "completed"
    },
    "tags": []
   },
   "outputs": [
    {
     "data": {
      "text/plain": [
       "1.8031309141719144e-194"
      ]
     },
     "execution_count": 19,
     "metadata": {},
     "output_type": "execute_result"
    }
   ],
   "source": [
    "# calculate p value for independence between delay and length\n",
    "\n",
    "get_cat_num_ind(data, \"Delay\", \"Length\")"
   ]
  },
  {
   "cell_type": "code",
   "execution_count": 20,
   "id": "77739b8b",
   "metadata": {
    "execution": {
     "iopub.execute_input": "2022-07-01T16:31:16.009633Z",
     "iopub.status.busy": "2022-07-01T16:31:16.009256Z",
     "iopub.status.idle": "2022-07-01T16:31:18.382322Z",
     "shell.execute_reply": "2022-07-01T16:31:18.381053Z"
    },
    "papermill": {
     "duration": 2.387135,
     "end_time": "2022-07-01T16:31:18.384721",
     "exception": false,
     "start_time": "2022-07-01T16:31:15.997586",
     "status": "completed"
    },
    "tags": []
   },
   "outputs": [
    {
     "data": {
      "text/plain": [
       "<matplotlib.legend.Legend at 0x7f91a94171d0>"
      ]
     },
     "execution_count": 20,
     "metadata": {},
     "output_type": "execute_result"
    },
    {
     "data": {
      "image/png": "[encoded data removed]",
      "text/plain": [
       "<Figure size 720x360 with 1 Axes>"
      ]
     },
     "metadata": {
      "needs_background": "light"
     },
     "output_type": "display_data"
    }
   ],
   "source": [
    "# visualize distributions for delay with respect to length\n",
    "\n",
    "delay = data[data[\"Delay\"]==1][\"Length\"]\n",
    "no_delay = data[data[\"Delay\"]==0][\"Length\"]\n",
    "\n",
    "figure = plt.figure(figsize=(10,5))\n",
    "sns.kdeplot(delay)\n",
    "sns.kdeplot(no_delay)\n",
    "plt.legend(labels=[\"delay\",\"no_delay\"])"
   ]
  },
  {
   "cell_type": "markdown",
   "id": "62e5b432",
   "metadata": {
    "papermill": {
     "duration": 0.010831,
     "end_time": "2022-07-01T16:31:18.406768",
     "exception": false,
     "start_time": "2022-07-01T16:31:18.395937",
     "status": "completed"
    },
    "tags": []
   },
   "source": [
    "**Preprocessing Data**"
   ]
  },
  {
   "cell_type": "code",
   "execution_count": 21,
   "id": "d96a0c55",
   "metadata": {
    "execution": {
     "iopub.execute_input": "2022-07-01T16:31:18.429759Z",
     "iopub.status.busy": "2022-07-01T16:31:18.429318Z",
     "iopub.status.idle": "2022-07-01T16:31:18.598778Z",
     "shell.execute_reply": "2022-07-01T16:31:18.597762Z"
    },
    "papermill": {
     "duration": 0.184071,
     "end_time": "2022-07-01T16:31:18.601376",
     "exception": false,
     "start_time": "2022-07-01T16:31:18.417305",
     "status": "completed"
    },
    "tags": []
   },
   "outputs": [],
   "source": [
    "data['Length'] = data['Length'].apply(lambda x: x+1)"
   ]
  },
  {
   "cell_type": "code",
   "execution_count": 22,
   "id": "8f80663e",
   "metadata": {
    "execution": {
     "iopub.execute_input": "2022-07-01T16:31:18.624791Z",
     "iopub.status.busy": "2022-07-01T16:31:18.624378Z",
     "iopub.status.idle": "2022-07-01T16:31:20.919855Z",
     "shell.execute_reply": "2022-07-01T16:31:20.918693Z"
    },
    "papermill": {
     "duration": 2.310203,
     "end_time": "2022-07-01T16:31:20.922245",
     "exception": false,
     "start_time": "2022-07-01T16:31:18.612042",
     "status": "completed"
    },
    "tags": []
   },
   "outputs": [
    {
     "data": {
      "text/plain": [
       "<AxesSubplot:xlabel='Length', ylabel='Density'>"
      ]
     },
     "execution_count": 22,
     "metadata": {},
     "output_type": "execute_result"
    },
    {
     "data": {
      "image/png": "[encoded data removed]",
      "text/plain": [
       "<Figure size 432x288 with 1 Axes>"
      ]
     },
     "metadata": {
      "needs_background": "light"
     },
     "output_type": "display_data"
    }
   ],
   "source": [
    "sns.kdeplot(np.log(data['Length']))"
   ]
  },
  {
   "cell_type": "code",
   "execution_count": 23,
   "id": "cb64b6c3",
   "metadata": {
    "execution": {
     "iopub.execute_input": "2022-07-01T16:31:20.946373Z",
     "iopub.status.busy": "2022-07-01T16:31:20.945954Z",
     "iopub.status.idle": "2022-07-01T16:31:20.960700Z",
     "shell.execute_reply": "2022-07-01T16:31:20.959312Z"
    },
    "papermill": {
     "duration": 0.029874,
     "end_time": "2022-07-01T16:31:20.963255",
     "exception": false,
     "start_time": "2022-07-01T16:31:20.933381",
     "status": "completed"
    },
    "tags": []
   },
   "outputs": [],
   "source": [
    "data['Length'] = np.log(data['Length'])"
   ]
  },
  {
   "cell_type": "code",
   "execution_count": 24,
   "id": "4b657e60",
   "metadata": {
    "execution": {
     "iopub.execute_input": "2022-07-01T16:31:20.987724Z",
     "iopub.status.busy": "2022-07-01T16:31:20.987264Z",
     "iopub.status.idle": "2022-07-01T16:31:21.346666Z",
     "shell.execute_reply": "2022-07-01T16:31:21.345562Z"
    },
    "papermill": {
     "duration": 0.375017,
     "end_time": "2022-07-01T16:31:21.349407",
     "exception": false,
     "start_time": "2022-07-01T16:31:20.974390",
     "status": "completed"
    },
    "tags": []
   },
   "outputs": [],
   "source": [
    "data['Delay'] = data['Delay'].astype(str)"
   ]
  },
  {
   "cell_type": "code",
   "execution_count": 25,
   "id": "d2cbfb12",
   "metadata": {
    "execution": {
     "iopub.execute_input": "2022-07-01T16:31:21.374133Z",
     "iopub.status.busy": "2022-07-01T16:31:21.373469Z",
     "iopub.status.idle": "2022-07-01T16:31:21.377650Z",
     "shell.execute_reply": "2022-07-01T16:31:21.376893Z"
    },
    "papermill": {
     "duration": 0.019128,
     "end_time": "2022-07-01T16:31:21.379716",
     "exception": false,
     "start_time": "2022-07-01T16:31:21.360588",
     "status": "completed"
    },
    "tags": []
   },
   "outputs": [],
   "source": [
    "features = [x for x in data.columns if x != \"Delay\"]"
   ]
  },
  {
   "cell_type": "code",
   "execution_count": 26,
   "id": "38c07fec",
   "metadata": {
    "execution": {
     "iopub.execute_input": "2022-07-01T16:31:21.403923Z",
     "iopub.status.busy": "2022-07-01T16:31:21.403241Z",
     "iopub.status.idle": "2022-07-01T16:31:21.474697Z",
     "shell.execute_reply": "2022-07-01T16:31:21.473759Z"
    },
    "papermill": {
     "duration": 0.086062,
     "end_time": "2022-07-01T16:31:21.477067",
     "exception": false,
     "start_time": "2022-07-01T16:31:21.391005",
     "status": "completed"
    },
    "tags": []
   },
   "outputs": [],
   "source": [
    "X=data[features]\n",
    "y = data['Delay']"
   ]
  },
  {
   "cell_type": "code",
   "execution_count": 27,
   "id": "60ec675e",
   "metadata": {
    "execution": {
     "iopub.execute_input": "2022-07-01T16:31:21.501148Z",
     "iopub.status.busy": "2022-07-01T16:31:21.500540Z",
     "iopub.status.idle": "2022-07-01T16:31:23.640648Z",
     "shell.execute_reply": "2022-07-01T16:31:23.639718Z"
    },
    "papermill": {
     "duration": 2.155071,
     "end_time": "2022-07-01T16:31:23.643067",
     "exception": false,
     "start_time": "2022-07-01T16:31:21.487996",
     "status": "completed"
    },
    "tags": []
   },
   "outputs": [],
   "source": [
    "X = pd.get_dummies(X)"
   ]
  },
  {
   "cell_type": "code",
   "execution_count": null,
   "id": "fb22ede8",
   "metadata": {
    "papermill": {
     "duration": 0.011122,
     "end_time": "2022-07-01T16:31:23.665778",
     "exception": false,
     "start_time": "2022-07-01T16:31:23.654656",
     "status": "completed"
    },
    "tags": []
   },
   "outputs": [],
   "source": []
  },
  {
   "cell_type": "code",
   "execution_count": 28,
   "id": "c466ec0a",
   "metadata": {
    "execution": {
     "iopub.execute_input": "2022-07-01T16:31:23.690318Z",
     "iopub.status.busy": "2022-07-01T16:31:23.689631Z",
     "iopub.status.idle": "2022-07-01T16:31:23.693525Z",
     "shell.execute_reply": "2022-07-01T16:31:23.692757Z"
    },
    "papermill": {
     "duration": 0.018463,
     "end_time": "2022-07-01T16:31:23.695692",
     "exception": false,
     "start_time": "2022-07-01T16:31:23.677229",
     "status": "completed"
    },
    "tags": []
   },
   "outputs": [],
   "source": [
    "dummy_features = X.columns"
   ]
  },
  {
   "cell_type": "code",
   "execution_count": 29,
   "id": "98c7de36",
   "metadata": {
    "execution": {
     "iopub.execute_input": "2022-07-01T16:31:23.721037Z",
     "iopub.status.busy": "2022-07-01T16:31:23.720356Z",
     "iopub.status.idle": "2022-07-01T16:31:25.003698Z",
     "shell.execute_reply": "2022-07-01T16:31:25.002485Z"
    },
    "papermill": {
     "duration": 1.299624,
     "end_time": "2022-07-01T16:31:25.006493",
     "exception": false,
     "start_time": "2022-07-01T16:31:23.706869",
     "status": "completed"
    },
    "tags": []
   },
   "outputs": [],
   "source": [
    "X = X.values"
   ]
  },
  {
   "cell_type": "markdown",
   "id": "3aed1ff2",
   "metadata": {
    "papermill": {
     "duration": 0.010715,
     "end_time": "2022-07-01T16:31:25.028211",
     "exception": false,
     "start_time": "2022-07-01T16:31:25.017496",
     "status": "completed"
    },
    "tags": []
   },
   "source": [
    "**Modeling**"
   ]
  },
  {
   "cell_type": "markdown",
   "id": "95ee4a8d",
   "metadata": {
    "papermill": {
     "duration": 0.010965,
     "end_time": "2022-07-01T16:31:25.050695",
     "exception": false,
     "start_time": "2022-07-01T16:31:25.039730",
     "status": "completed"
    },
    "tags": []
   },
   "source": [
    "As a classification problem, we should consider models like Logistic Regression, Decision Trees, Random Forest, and XGBoost.\n",
    "\n",
    "Because the dataset is very large, using a classifier like RandomForest may prove to be slow."
   ]
  },
  {
   "cell_type": "code",
   "execution_count": 30,
   "id": "d686ee4e",
   "metadata": {
    "execution": {
     "iopub.execute_input": "2022-07-01T16:31:25.080416Z",
     "iopub.status.busy": "2022-07-01T16:31:25.079494Z",
     "iopub.status.idle": "2022-07-01T16:31:25.146406Z",
     "shell.execute_reply": "2022-07-01T16:31:25.144881Z"
    },
    "papermill": {
     "duration": 0.083747,
     "end_time": "2022-07-01T16:31:25.149789",
     "exception": false,
     "start_time": "2022-07-01T16:31:25.066042",
     "status": "completed"
    },
    "tags": []
   },
   "outputs": [],
   "source": [
    "from sklearn.model_selection import train_test_split"
   ]
  },
  {
   "cell_type": "code",
   "execution_count": 31,
   "id": "f6c9324e",
   "metadata": {
    "execution": {
     "iopub.execute_input": "2022-07-01T16:31:25.173523Z",
     "iopub.status.busy": "2022-07-01T16:31:25.173169Z",
     "iopub.status.idle": "2022-07-01T16:31:29.834880Z",
     "shell.execute_reply": "2022-07-01T16:31:29.833623Z"
    },
    "papermill": {
     "duration": 4.676669,
     "end_time": "2022-07-01T16:31:29.837446",
     "exception": false,
     "start_time": "2022-07-01T16:31:25.160777",
     "status": "completed"
    },
    "tags": []
   },
   "outputs": [],
   "source": [
    "X_train, X_test, y_train, y_test = train_test_split(X, y, test_size=.3, random_state=42)"
   ]
  },
  {
   "cell_type": "code",
   "execution_count": 32,
   "id": "fb022b3b",
   "metadata": {
    "execution": {
     "iopub.execute_input": "2022-07-01T16:31:29.861822Z",
     "iopub.status.busy": "2022-07-01T16:31:29.861232Z",
     "iopub.status.idle": "2022-07-01T16:31:38.030570Z",
     "shell.execute_reply": "2022-07-01T16:31:38.028314Z"
    },
    "papermill": {
     "duration": 8.187954,
     "end_time": "2022-07-01T16:31:38.036268",
     "exception": false,
     "start_time": "2022-07-01T16:31:29.848314",
     "status": "completed"
    },
    "tags": []
   },
   "outputs": [],
   "source": [
    "scaler = StandardScaler()\n",
    "scaler.fit(X_train)\n",
    "X_train_scaled = scaler.transform(X_train)\n",
    "X_test_scaled = scaler.transform(X_test)"
   ]
  },
  {
   "cell_type": "code",
   "execution_count": 33,
   "id": "349af026",
   "metadata": {
    "execution": {
     "iopub.execute_input": "2022-07-01T16:31:38.064687Z",
     "iopub.status.busy": "2022-07-01T16:31:38.064083Z",
     "iopub.status.idle": "2022-07-01T16:31:38.306736Z",
     "shell.execute_reply": "2022-07-01T16:31:38.305396Z"
    },
    "papermill": {
     "duration": 0.258416,
     "end_time": "2022-07-01T16:31:38.309502",
     "exception": false,
     "start_time": "2022-07-01T16:31:38.051086",
     "status": "completed"
    },
    "tags": []
   },
   "outputs": [],
   "source": [
    "from sklearn.ensemble import RandomForestClassifier\n",
    "from sklearn.linear_model import LogisticRegression"
   ]
  },
  {
   "cell_type": "code",
   "execution_count": 34,
   "id": "39861fd8",
   "metadata": {
    "execution": {
     "iopub.execute_input": "2022-07-01T16:31:38.333970Z",
     "iopub.status.busy": "2022-07-01T16:31:38.333553Z",
     "iopub.status.idle": "2022-07-01T16:37:47.817499Z",
     "shell.execute_reply": "2022-07-01T16:37:47.816125Z"
    },
    "papermill": {
     "duration": 369.500959,
     "end_time": "2022-07-01T16:37:47.821823",
     "exception": false,
     "start_time": "2022-07-01T16:31:38.320864",
     "status": "completed"
    },
    "tags": []
   },
   "outputs": [],
   "source": [
    "rfc = RandomForestClassifier()\n",
    "rfc.fit(X_train_scaled, y_train)\n",
    "predictions = rfc.predict(X_test_scaled)"
   ]
  },
  {
   "cell_type": "code",
   "execution_count": 35,
   "id": "89f39c55",
   "metadata": {
    "execution": {
     "iopub.execute_input": "2022-07-01T16:37:47.847284Z",
     "iopub.status.busy": "2022-07-01T16:37:47.846844Z",
     "iopub.status.idle": "2022-07-01T16:37:47.851961Z",
     "shell.execute_reply": "2022-07-01T16:37:47.851188Z"
    },
    "papermill": {
     "duration": 0.01947,
     "end_time": "2022-07-01T16:37:47.853920",
     "exception": false,
     "start_time": "2022-07-01T16:37:47.834450",
     "status": "completed"
    },
    "tags": []
   },
   "outputs": [],
   "source": [
    "from sklearn.metrics import classification_report, confusion_matrix"
   ]
  },
  {
   "cell_type": "code",
   "execution_count": 36,
   "id": "e65a5086",
   "metadata": {
    "execution": {
     "iopub.execute_input": "2022-07-01T16:37:47.879688Z",
     "iopub.status.busy": "2022-07-01T16:37:47.878512Z",
     "iopub.status.idle": "2022-07-01T16:38:00.068795Z",
     "shell.execute_reply": "2022-07-01T16:38:00.067383Z"
    },
    "papermill": {
     "duration": 12.206219,
     "end_time": "2022-07-01T16:38:00.071273",
     "exception": false,
     "start_time": "2022-07-01T16:37:47.865054",
     "status": "completed"
    },
    "tags": []
   },
   "outputs": [
    {
     "name": "stdout",
     "output_type": "stream",
     "text": [
      "              precision    recall  f1-score   support\n",
      "\n",
      "           0       0.65      0.67      0.66     89905\n",
      "           1       0.57      0.55      0.56     71910\n",
      "\n",
      "    accuracy                           0.62    161815\n",
      "   macro avg       0.61      0.61      0.61    161815\n",
      "weighted avg       0.61      0.62      0.62    161815\n",
      "\n"
     ]
    }
   ],
   "source": [
    "print(classification_report(y_test, predictions))"
   ]
  },
  {
   "cell_type": "code",
   "execution_count": 37,
   "id": "16f6dd4a",
   "metadata": {
    "execution": {
     "iopub.execute_input": "2022-07-01T16:38:00.096304Z",
     "iopub.status.busy": "2022-07-01T16:38:00.095870Z",
     "iopub.status.idle": "2022-07-01T16:38:10.708068Z",
     "shell.execute_reply": "2022-07-01T16:38:10.706710Z"
    },
    "papermill": {
     "duration": 10.629323,
     "end_time": "2022-07-01T16:38:10.711941",
     "exception": false,
     "start_time": "2022-07-01T16:38:00.082618",
     "status": "completed"
    },
    "tags": []
   },
   "outputs": [],
   "source": [
    "lr = LogisticRegression()\n",
    "lr.fit(X_train_scaled, y_train)\n",
    "predictions = lr.predict(X_test_scaled)"
   ]
  },
  {
   "cell_type": "code",
   "execution_count": 38,
   "id": "0d70ce10",
   "metadata": {
    "execution": {
     "iopub.execute_input": "2022-07-01T16:38:10.758752Z",
     "iopub.status.busy": "2022-07-01T16:38:10.758170Z",
     "iopub.status.idle": "2022-07-01T16:38:22.846051Z",
     "shell.execute_reply": "2022-07-01T16:38:22.844061Z"
    },
    "papermill": {
     "duration": 12.114445,
     "end_time": "2022-07-01T16:38:22.848823",
     "exception": false,
     "start_time": "2022-07-01T16:38:10.734378",
     "status": "completed"
    },
    "tags": []
   },
   "outputs": [
    {
     "name": "stdout",
     "output_type": "stream",
     "text": [
      "              precision    recall  f1-score   support\n",
      "\n",
      "           0       0.65      0.77      0.71     89905\n",
      "           1       0.63      0.49      0.55     71910\n",
      "\n",
      "    accuracy                           0.65    161815\n",
      "   macro avg       0.64      0.63      0.63    161815\n",
      "weighted avg       0.64      0.65      0.64    161815\n",
      "\n"
     ]
    }
   ],
   "source": [
    "print(classification_report(y_test, predictions))"
   ]
  },
  {
   "cell_type": "code",
   "execution_count": 39,
   "id": "afe7e4c0",
   "metadata": {
    "execution": {
     "iopub.execute_input": "2022-07-01T16:38:22.873593Z",
     "iopub.status.busy": "2022-07-01T16:38:22.873208Z",
     "iopub.status.idle": "2022-07-01T16:38:24.319464Z",
     "shell.execute_reply": "2022-07-01T16:38:24.318192Z"
    },
    "papermill": {
     "duration": 1.461832,
     "end_time": "2022-07-01T16:38:24.322139",
     "exception": false,
     "start_time": "2022-07-01T16:38:22.860307",
     "status": "completed"
    },
    "tags": []
   },
   "outputs": [
    {
     "data": {
      "text/plain": [
       "array([[69462, 20443],\n",
       "       [36699, 35211]])"
      ]
     },
     "execution_count": 39,
     "metadata": {},
     "output_type": "execute_result"
    }
   ],
   "source": [
    "confusion_matrix(y_test, predictions)"
   ]
  },
  {
   "cell_type": "code",
   "execution_count": null,
   "id": "9d3631c8",
   "metadata": {
    "papermill": {
     "duration": 0.011126,
     "end_time": "2022-07-01T16:38:24.344961",
     "exception": false,
     "start_time": "2022-07-01T16:38:24.333835",
     "status": "completed"
    },
    "tags": []
   },
   "outputs": [],
   "source": []
  }
 ],
 "metadata": {
  "kernelspec": {
   "display_name": "Python 3",
   "language": "python",
   "name": "python3"
  },
  "language_info": {
   "codemirror_mode": {
    "name": "ipython",
    "version": 3
   },
   "file_extension": ".py",
   "mimetype": "text/x-python",
   "name": "python",
   "nbconvert_exporter": "python",
   "pygments_lexer": "ipython3",
   "version": "3.7.12"
  },
  "papermill": {
   "default_parameters": {},
   "duration": 451.199831,
   "end_time": "2022-07-01T16:38:25.584274",
   "environment_variables": {},
   "exception": null,
   "input_path": "__notebook__.ipynb",
   "output_path": "__notebook__.ipynb",
   "parameters": {},
   "start_time": "2022-07-01T16:30:54.384443",
   "version": "2.3.4"
  }
 },
 "nbformat": 4,
 "nbformat_minor": 5
}
